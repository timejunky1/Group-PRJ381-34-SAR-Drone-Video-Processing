{
 "cells": [
  {
   "cell_type": "code",
   "execution_count": null,
   "metadata": {},
   "outputs": [
    {
     "ename": "",
     "evalue": "",
     "output_type": "error",
     "traceback": [
      "\u001b[1;31mRunning cells with 'Python 3.11.3 64-bit' requires ipykernel package.\n",
      "\u001b[1;31mRun the following command to install 'ipykernel' into the Python environment. \n",
      "\u001b[1;31mCommand: 'c:/Users/sjaco/AppData/Local/Programs/Python/Python311/python.exe -m pip install ipykernel -U --user --force-reinstall'"
     ]
    }
   ],
   "source": [
    "pip install opencv-python\n",
    "pip install keras\n",
    "pip install opencv-python-headless"
   ]
  },
  {
   "cell_type": "code",
   "execution_count": null,
   "metadata": {},
   "outputs": [],
   "source": [
    "import cv2\n",
    "import numpy as np\n",
    "import matplotlib.pyplot as plt\n",
    "import matplotlib.image as mpimg\n",
    "import pandas as pd\n",
    "import seaborn as sn\n",
    "import os\n",
    "import tensorflow as tf\n",
    "from tensorflow.keras import layers, models\n",
    "from IPython.display import display, clear_output\n",
    "from tkinter import filedialog\n",
    "from tkinter import Tk"
   ]
  },
  {
   "cell_type": "code",
   "execution_count": null,
   "metadata": {},
   "outputs": [],
   "source": [
    "def CreateModel():\n",
    "    model = models.Sequential()\n",
    "    model.add(layers.Conv2D(32, (6,6), padding = 'same',activation='relu', input_shape=(363, 363, 3)))\n",
    "    model.add(layers.MaxPool2D(pool_size=(2,2)))\n",
    "    model.add(layers.Conv2D(32, (6,6), padding = 'same', activation='relu'))\n",
    "    model.add(layers.MaxPool2D(pool_size=(2,2)))\n",
    "    model.add(layers.Conv2D(32, (6,6), padding = 'same', activation='relu'))\n",
    "    model.add(layers.MaxPool2D(pool_size=(2,2)))\n",
    "    layers.Dropout(0.2)\n",
    "    model.add(layers.Flatten())\n",
    "    model.add(layers.Dense(units = 54, activation = 'relu'))\n",
    "    model.add(layers.Dense(units = 10, activation = 'softmax'))\n",
    "\n",
    "    model.compile(optimizer='adam', loss='sparse_categorical_crossentropy', metrics=['accuracy'])\n",
    "    model.summary()\n",
    "    \n",
    "    return model"
   ]
  },
  {
   "cell_type": "code",
   "execution_count": null,
   "metadata": {},
   "outputs": [],
   "source": [
    "def TrainModel(data_dir):\n",
    "    image_size = (363, 363)\n",
    "    batch_size = 128\n",
    "\n",
    "    train_ds, test_ds = tf.keras.utils.image_dataset_from_directory(\n",
    "        data_dir,\n",
    "        validation_split=0.2,\n",
    "        subset=\"both\",\n",
    "        seed=1337,\n",
    "        image_size=image_size,\n",
    "        batch_size=batch_size,\n",
    "    )\n",
    "    class_names = test_ds.class_names\n",
    "\n",
    "\n",
    "\n",
    "    AUTOTUNE = tf.data.AUTOTUNE\n",
    "\n",
    "    train_ds = train_ds.cache().shuffle(1000).prefetch(buffer_size=AUTOTUNE)\n",
    "    test_ds = test_ds.cache().prefetch(buffer_size=AUTOTUNE)\n",
    "    \n",
    "    print(test_ds)\n",
    "    \n",
    "    epochs = 10\n",
    "    history = model.fit(train_ds, epochs=epochs,\n",
    "                        validation_data=(test_ds))\n",
    "    \n",
    "    return test_ds, history, epochs, class_names"
   ]
  },
  {
   "cell_type": "code",
   "execution_count": null,
   "metadata": {},
   "outputs": [],
   "source": [
    "def LossHistory(history):\n",
    "    # your code here\n",
    "    acc = history.history['accuracy']\n",
    "    acc_val = history.history['val_accuracy']\n",
    "\n",
    "    loss = history.history['loss']\n",
    "    val_loss = history.history['val_loss']\n",
    "\n",
    "    epochs_range = range(epochs)\n",
    "\n",
    "    plt.figure(figsize=(14, 8))\n",
    "    plt.subplot(1, 2, 1)\n",
    "    plt.plot(epochs_range, acc, label = 'Accuracy Score', color = 'blue')\n",
    "    plt.plot(epochs_range, acc_val, label = 'Validated Accuracy Score', color = 'green')\n",
    "    plt.legend()\n",
    "    plt.title('Accuracy Score vs Validated Accuracy Score')\n",
    "\n",
    "    plt.subplot(1, 2, 2)\n",
    "    plt.plot(epochs_range, loss, label = 'Loss', color = 'blue')\n",
    "    plt.plot(epochs_range, val_loss, label = 'Validated Loss', color = 'green')\n",
    "    plt.legend()\n",
    "    plt.title('Loss Score vs Validated Loss Score')\n",
    "\n",
    "    plt.show()"
   ]
  },
  {
   "cell_type": "code",
   "execution_count": null,
   "metadata": {},
   "outputs": [],
   "source": [
    "def EvaluateModel(model, test_ds):\n",
    "    # Get the image and label arrays for the first batch of validation data\n",
    "    from sklearn.metrics import ConfusionMatrixDisplay, confusion_matrix\n",
    "\n",
    "    images = []\n",
    "    labels = []\n",
    "    for ims, lbs in test_ds:\n",
    "        images = ims\n",
    "        labels = lbs\n",
    "    #print(f'Images = {images}: Labels = {labels}')\n",
    "\n",
    "    \n",
    "    # Use the model to predict the class\n",
    "    predictions = model.predict(images)\n",
    "    print(predictions)\n",
    "\n",
    "    \n",
    "    # The model returns a probability value for each class    \n",
    "    # The one with the highest probability is the predicted class\n",
    "    # The actual labels are hot encoded (e.g. [0 1 0], so get the one with the value 1\n",
    "    predicted_classes = []\n",
    "    for prd in predictions:\n",
    "        predicted_classes.append(np.argmax(prd))\n",
    "\n",
    "    #print(predicted_classes)\n",
    "\n",
    "    # Plot the confusion matrix\n",
    "    cm = confusion_matrix(labels, predicted_classes)\n",
    "    ConfusionMatrixDisplay(confusion_matrix = cm, display_labels = class_names).plot()"
   ]
  },
  {
   "cell_type": "code",
   "execution_count": null,
   "metadata": {},
   "outputs": [],
   "source": [
    "def Predict(img):\n",
    "\n",
    "    img_array = tf.keras.utils.img_to_array(img)\n",
    "    img_array = tf.expand_dims(img_array, 0) # Create a batch\n",
    "    predictions = model.predict(img_array)\n",
    "    score = tf.nn.softmax(predictions[0])\n",
    "    \n",
    "    identification = class_names[np.argmax(score)]\n",
    "    \n",
    "    return(identification)"
   ]
  },
  {
   "cell_type": "code",
   "execution_count": null,
   "metadata": {},
   "outputs": [],
   "source": []
  }
 ],
 "metadata": {
  "kernelspec": {
   "display_name": "Python 3.11.3 64-bit",
   "language": "python",
   "name": "python3"
  },
  "language_info": {
   "name": "python",
   "version": "3.11.3"
  },
  "orig_nbformat": 4,
  "vscode": {
   "interpreter": {
    "hash": "16f55d6e25356297f3b29cd77ad382e66ec52387b1380e812844f7632002ada6"
   }
  }
 },
 "nbformat": 4,
 "nbformat_minor": 2
}
